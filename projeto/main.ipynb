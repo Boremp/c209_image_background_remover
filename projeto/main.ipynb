{
 "cells": [
  {
   "cell_type": "code",
   "execution_count": 7,
   "metadata": {},
   "outputs": [
    {
     "data": {
      "text/plain": [
       "True"
      ]
     },
     "execution_count": 7,
     "metadata": {},
     "output_type": "execute_result"
    }
   ],
   "source": [
    "import numpy as np\n",
    "import cv2 as cv\n",
    "from PIL import Image\n",
    "import matplotlib.pyplot as plt\n",
    "\n",
    "# convert to graky\n",
    "img_logo = cv.imread(\"logo_builders.png\")\n",
    "img_logo_cv_gray =cv.cvtColor(img_logo, cv.COLOR_BGR2GRAY)\n",
    "\n",
    "img_logo_cv_binary = cv.threshold(img_logo_cv_gray,220,255,cv.THRESH_BINARY)[1]\n",
    "img_logo_cv_binary = 255 - img_logo_cv_binary\n",
    "\n",
    "#REMOVENDO RUÍDO ISOLADO\n",
    "kernel = np.ones((3,3), np.uint8)\n",
    "img_logo_cv_mask = cv.morphologyEx(img_logo_cv_binary,cv.MORPH_OPEN,kernel)\n",
    "img_logo_cv_mask = cv.morphologyEx(img_logo_cv_mask,cv.MORPH_CLOSE,kernel)\n",
    "\n",
    "#ANTI- ALIAS --> BLUR + STRETCH\n",
    "#BLUR:\n",
    "img_logo_cv_mask = cv.GaussianBlur(img_logo_cv_mask,(0,0), sigmaX=2, sigmaY=2, borderType = cv.BORDER_DEFAULT)\n",
    "#STRETCH LINEAR:\n",
    "img_logo_cv_mask = (2*(img_logo_cv_mask.astype(np.float32))-255.0).clip(0,255).astype(np.uint8)\n",
    "\n",
    "# colocando a mascara no canal alpha\n",
    "img_logo_nBckgnd = img_logo_cv_mask.copy()\n",
    "img_logo_nBckgnd = cv.cvtColor(img_logo_nBckgnd, cv.COLOR_BGR2BGRA)\n",
    "img_logo_nBckgnd[:, :, 3] = img_logo_cv_mask\n",
    "\n",
    "#SALVANDO\n",
    "cv.imwrite(\"logo_builders_nBckgnd.png\", img_logo_nBckgnd)\n",
    "cv.imwrite(\"logo_builders_gray.png\", img_logo_cv_gray)\n",
    "cv.imwrite(\"logo_builders_binary.png\", img_logo_cv_binary)\n",
    "cv.imwrite(\"logo_builders_mask.png\", img_logo_cv_mask)\n"
   ]
  }
 ],
 "metadata": {
  "kernelspec": {
   "display_name": "Python 3.10.6 64-bit",
   "language": "python",
   "name": "python3"
  },
  "language_info": {
   "codemirror_mode": {
    "name": "ipython",
    "version": 3
   },
   "file_extension": ".py",
   "mimetype": "text/x-python",
   "name": "python",
   "nbconvert_exporter": "python",
   "pygments_lexer": "ipython3",
   "version": "3.10.6"
  },
  "orig_nbformat": 4,
  "vscode": {
   "interpreter": {
    "hash": "c3503f95e0e8f4afdf6702396a7a2a29cae9f67572acfe092405dcaa2579b817"
   }
  }
 },
 "nbformat": 4,
 "nbformat_minor": 2
}
